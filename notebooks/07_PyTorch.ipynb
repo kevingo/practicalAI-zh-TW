{
 "cells": [
  {
   "cell_type": "markdown",
   "metadata": {
    "colab_type": "text",
    "id": "bOChJSNXtC9g"
   },
   "source": [
    "# PyTorch"
   ]
  },
  {
   "cell_type": "markdown",
   "metadata": {
    "colab_type": "text",
    "id": "OLIxEDq6VhvZ"
   },
   "source": [
    "<img src=\"https://raw.githubusercontent.com/GokuMohandas/practicalAI/master/images/logo.png\" width=150>\n",
    "\n",
    "在本堂課中，我們會學習 PyTorch。PyTorch 是一個用來構建動態類神經網路的機器學習框架。我們會學習基本的部分，比如說建立和使用 tensors，等到下一堂課時，才會學習透過 PyTorch 來建立模型。\n",
    "\n",
    "<img src=\"https://raw.githubusercontent.com/GokuMohandas/practicalAI/master/images/pytorch.png\" width=300>"
   ]
  },
  {
   "cell_type": "markdown",
   "metadata": {
    "colab_type": "text",
    "id": "VoMq0eFRvugb"
   },
   "source": [
    "# Tensor 基礎"
   ]
  },
  {
   "cell_type": "code",
   "execution_count": 1,
   "metadata": {
    "ExecuteTime": {
     "end_time": "2019-03-13T15:41:34.957808Z",
     "start_time": "2019-03-13T15:41:32.597910Z"
    },
    "colab": {
     "base_uri": "https://localhost:8080/",
     "height": 34
    },
    "colab_type": "code",
    "id": "0-dXQiLlTIgz",
    "outputId": "d4ed17af-40a8-41db-ba6e-825ff9db2187"
   },
   "outputs": [
    {
     "name": "stdout",
     "output_type": "stream",
     "text": [
      "Requirement already satisfied (use --upgrade to upgrade): torch in /usr/local/lib/python3.5/site-packages\n",
      "Requirement already satisfied (use --upgrade to upgrade): numpy in /usr/local/lib/python3.5/site-packages (from torch)\n",
      "Requirement already satisfied (use --upgrade to upgrade): pyyaml in /usr/local/lib/python3.5/site-packages (from torch)\n",
      "\u001b[33mYou are using pip version 8.1.2, however version 19.0.3 is available.\n",
      "You should consider upgrading via the 'pip install --upgrade pip' command.\u001b[0m\n"
     ]
    }
   ],
   "source": [
    "# 安裝 PyTorch\n",
    "!pip3 install torch"
   ]
  },
  {
   "cell_type": "code",
   "execution_count": 2,
   "metadata": {
    "ExecuteTime": {
     "end_time": "2019-03-13T15:41:41.396215Z",
     "start_time": "2019-03-13T15:41:40.285421Z"
    },
    "colab": {},
    "colab_type": "code",
    "id": "rX7Vs1JxL9wX"
   },
   "outputs": [],
   "source": [
    "import numpy as np\n",
    "import torch"
   ]
  },
  {
   "cell_type": "code",
   "execution_count": 3,
   "metadata": {
    "ExecuteTime": {
     "end_time": "2019-03-13T15:41:55.349292Z",
     "start_time": "2019-03-13T15:41:55.302007Z"
    },
    "colab": {
     "base_uri": "https://localhost:8080/",
     "height": 119
    },
    "colab_type": "code",
    "id": "Nv0xryLkKujV",
    "outputId": "d46d5e58-2195-40a8-841c-26b627541a83"
   },
   "outputs": [
    {
     "name": "stdout",
     "output_type": "stream",
     "text": [
      "Type: torch.FloatTensor\n",
      "Size: torch.Size([3, 4])\n",
      "Values: \n",
      "tensor([[ 0.0000e+00, -4.6566e-10,  0.0000e+00, -4.6566e-10],\n",
      "        [ 4.2039e-45,  0.0000e+00,  0.0000e+00,  0.0000e+00],\n",
      "        [ 0.0000e+00,  0.0000e+00,  9.3174e-39,  2.7837e-40]])\n"
     ]
    }
   ],
   "source": [
    "# 建立一個 tensor\n",
    "x = torch.Tensor(3, 4)\n",
    "print(\"Type: {}\".format(x.type()))\n",
    "print(\"Size: {}\".format(x.shape))\n",
    "print(\"Values: \\n{}\".format(x))"
   ]
  },
  {
   "cell_type": "code",
   "execution_count": 7,
   "metadata": {
    "ExecuteTime": {
     "end_time": "2019-03-13T15:42:46.375647Z",
     "start_time": "2019-03-13T15:42:46.370571Z"
    },
    "colab": {
     "base_uri": "https://localhost:8080/",
     "height": 51
    },
    "colab_type": "code",
    "id": "vnyzY4PHL7c5",
    "outputId": "70ed373d-e7e0-43cd-e732-51be86377721"
   },
   "outputs": [
    {
     "name": "stdout",
     "output_type": "stream",
     "text": [
      "tensor([[ 1.3104, -1.6026,  1.4813],\n",
      "        [ 0.6529,  0.9398, -0.7048]])\n"
     ]
    }
   ],
   "source": [
    "# 建立一個隨機的 tensor\n",
    "x = torch.randn(2, 3) # 常態分佈 (rand(2,3) -> 均勻分佈)\n",
    "print (x)"
   ]
  },
  {
   "cell_type": "code",
   "execution_count": 6,
   "metadata": {
    "ExecuteTime": {
     "end_time": "2019-03-13T15:42:44.363709Z",
     "start_time": "2019-03-13T15:42:44.355906Z"
    },
    "colab": {
     "base_uri": "https://localhost:8080/",
     "height": 85
    },
    "colab_type": "code",
    "id": "DVwGNeKxMXI8",
    "outputId": "6a185aa3-96f2-4e29-b116-3de3025cff4d"
   },
   "outputs": [
    {
     "name": "stdout",
     "output_type": "stream",
     "text": [
      "tensor([[0., 0., 0.],\n",
      "        [0., 0., 0.]])\n",
      "tensor([[1., 1., 1.],\n",
      "        [1., 1., 1.]])\n"
     ]
    }
   ],
   "source": [
    "# 建立 0 和 1 的 tensor\n",
    "x = torch.zeros(2, 3)\n",
    "print (x)\n",
    "x = torch.ones(2, 3)\n",
    "print (x)"
   ]
  },
  {
   "cell_type": "code",
   "execution_count": 7,
   "metadata": {
    "colab": {
     "base_uri": "https://localhost:8080/",
     "height": 85
    },
    "colab_type": "code",
    "id": "BPjHnDmCMXLm",
    "outputId": "c14c494e-b714-4983-eb90-665064830a14"
   },
   "outputs": [
    {
     "name": "stdout",
     "output_type": "stream",
     "text": [
      "Size: torch.Size([2, 3])\n",
      "Values: \n",
      "tensor([[1., 2., 3.],\n",
      "        [4., 5., 6.]])\n"
     ]
    }
   ],
   "source": [
    "# List → Tensor\n",
    "x = torch.Tensor([[1, 2, 3],[4, 5, 6]])\n",
    "print(\"Size: {}\".format(x.shape)) \n",
    "print(\"Values: \\n{}\".format(x))"
   ]
  },
  {
   "cell_type": "code",
   "execution_count": 8,
   "metadata": {
    "colab": {
     "base_uri": "https://localhost:8080/",
     "height": 85
    },
    "colab_type": "code",
    "id": "mG4-CHkgMXOE",
    "outputId": "2b9ed2e5-9862-480e-d0ce-d231676d7f49"
   },
   "outputs": [
    {
     "name": "stdout",
     "output_type": "stream",
     "text": [
      "Size: torch.Size([2, 3])\n",
      "Values: \n",
      "tensor([[0.0372, 0.6757, 0.9554],\n",
      "        [0.5651, 0.2336, 0.8303]], dtype=torch.float64)\n"
     ]
    }
   ],
   "source": [
    "# NumPy 陣列 → Tensor\n",
    "x = torch.from_numpy(np.random.rand(2, 3))\n",
    "print(\"Size: {}\".format(x.shape)) \n",
    "print(\"Values: \\n{}\".format(x))"
   ]
  },
  {
   "cell_type": "code",
   "execution_count": 9,
   "metadata": {
    "colab": {
     "base_uri": "https://localhost:8080/",
     "height": 51
    },
    "colab_type": "code",
    "id": "L8X2-5cqMXRA",
    "outputId": "af1c82ab-b8d7-4ea6-e142-7f8ed50fda40"
   },
   "outputs": [
    {
     "name": "stdout",
     "output_type": "stream",
     "text": [
      "Type: torch.FloatTensor\n",
      "Type: torch.LongTensor\n"
     ]
    }
   ],
   "source": [
    "# 改變 tensor 型別\n",
    "x = torch.Tensor(3, 4)\n",
    "print(\"Type: {}\".format(x.type()))\n",
    "x = x.long()\n",
    "print(\"Type: {}\".format(x.type()))"
   ]
  },
  {
   "cell_type": "markdown",
   "metadata": {
    "colab_type": "text",
    "id": "S2BRPaMvPbe3"
   },
   "source": [
    "# Tensor 操作"
   ]
  },
  {
   "cell_type": "code",
   "execution_count": 10,
   "metadata": {
    "colab": {
     "base_uri": "https://localhost:8080/",
     "height": 85
    },
    "colab_type": "code",
    "id": "Xrn8I76TMXT1",
    "outputId": "556b9d7f-79da-415c-f85d-648c5394e3a3"
   },
   "outputs": [
    {
     "name": "stdout",
     "output_type": "stream",
     "text": [
      "Size: torch.Size([2, 3])\n",
      "Values: \n",
      "tensor([[ 0.5650, -0.0173,  1.1263],\n",
      "        [ 3.4274,  1.3610, -0.9262]])\n"
     ]
    }
   ],
   "source": [
    "# 相加\n",
    "x = torch.randn(2, 3)\n",
    "y = torch.randn(2, 3)\n",
    "z = x + y\n",
    "print(\"Size: {}\".format(z.shape)) \n",
    "print(\"Values: \\n{}\".format(z))"
   ]
  },
  {
   "cell_type": "code",
   "execution_count": 11,
   "metadata": {
    "colab": {
     "base_uri": "https://localhost:8080/",
     "height": 85
    },
    "colab_type": "code",
    "id": "157fC9WsMXWf",
    "outputId": "a6890b43-4c74-42c6-d654-f62b8c130403"
   },
   "outputs": [
    {
     "name": "stdout",
     "output_type": "stream",
     "text": [
      "Size: torch.Size([2, 2])\n",
      "Values: \n",
      "tensor([[ 1.3294, -2.4559],\n",
      "        [-0.4337,  4.9667]])\n"
     ]
    }
   ],
   "source": [
    "# 內積操作\n",
    "x = torch.randn(2, 3)\n",
    "y = torch.randn(3, 2)\n",
    "z = torch.mm(x, y)\n",
    "print(\"Size: {}\".format(z.shape)) \n",
    "print(\"Values: \\n{}\".format(z))"
   ]
  },
  {
   "cell_type": "code",
   "execution_count": 12,
   "metadata": {
    "colab": {
     "base_uri": "https://localhost:8080/",
     "height": 170
    },
    "colab_type": "code",
    "id": "G6316lAmMXZG",
    "outputId": "3dce79e7-1b9f-4218-84cd-afbb16af7dd4"
   },
   "outputs": [
    {
     "name": "stdout",
     "output_type": "stream",
     "text": [
      "Size: torch.Size([2, 3])\n",
      "Values: \n",
      "tensor([[ 0.0257, -0.5716, -0.9207],\n",
      "        [-1.0590,  0.2942, -0.7114]])\n",
      "Size: torch.Size([3, 2])\n",
      "Values: \n",
      "tensor([[ 0.0257, -1.0590],\n",
      "        [-0.5716,  0.2942],\n",
      "        [-0.9207, -0.7114]])\n"
     ]
    }
   ],
   "source": [
    "# 轉置\n",
    "x = torch.randn(2, 3)\n",
    "print(\"Size: {}\".format(x.shape)) \n",
    "print(\"Values: \\n{}\".format(x))\n",
    "y = torch.t(x)\n",
    "print(\"Size: {}\".format(y.shape)) \n",
    "print(\"Values: \\n{}\".format(y))"
   ]
  },
  {
   "cell_type": "code",
   "execution_count": 13,
   "metadata": {
    "colab": {
     "base_uri": "https://localhost:8080/",
     "height": 102
    },
    "colab_type": "code",
    "id": "FCgDCOCjMXcF",
    "outputId": "ff1e16f5-bcd9-407f-9c99-361a0b7f27f6"
   },
   "outputs": [
    {
     "name": "stdout",
     "output_type": "stream",
     "text": [
      "Size: torch.Size([3, 2])\n",
      "Values: \n",
      "tensor([[ 0.0257, -0.5716],\n",
      "        [-0.9207, -1.0590],\n",
      "        [ 0.2942, -0.7114]])\n"
     ]
    }
   ],
   "source": [
    "# 改變 tensor 形狀 (reshape)\n",
    "z = x.view(3, 2)\n",
    "print(\"Size: {}\".format(z.shape)) \n",
    "print(\"Values: \\n{}\".format(z))"
   ]
  },
  {
   "cell_type": "code",
   "execution_count": 8,
   "metadata": {
    "ExecuteTime": {
     "end_time": "2019-03-14T01:56:48.728205Z",
     "start_time": "2019-03-14T01:56:48.669609Z"
    },
    "colab": {
     "base_uri": "https://localhost:8080/",
     "height": 561
    },
    "colab_type": "code",
    "id": "T3-6nGgvECH9",
    "outputId": "9599adaf-1feb-4a42-d4b5-af23f1de5b2d"
   },
   "outputs": [
    {
     "name": "stdout",
     "output_type": "stream",
     "text": [
      "Size: torch.Size([2, 3, 4])\n",
      "Values: \n",
      "tensor([[[ 1,  1,  1,  1],\n",
      "         [ 2,  2,  2,  2],\n",
      "         [ 3,  3,  3,  3]],\n",
      "\n",
      "        [[10, 10, 10, 10],\n",
      "         [20, 20, 20, 20],\n",
      "         [30, 30, 30, 30]]])\n",
      "\n",
      "Size: torch.Size([3, 8])\n",
      "Values: \n",
      "tensor([[ 1,  1,  1,  1,  2,  2,  2,  2],\n",
      "        [ 3,  3,  3,  3, 10, 10, 10, 10],\n",
      "        [20, 20, 20, 20, 30, 30, 30, 30]])\n",
      "\n",
      "Size: torch.Size([3, 2, 4])\n",
      "Values: \n",
      "tensor([[[ 1,  1,  1,  1],\n",
      "         [10, 10, 10, 10]],\n",
      "\n",
      "        [[ 2,  2,  2,  2],\n",
      "         [20, 20, 20, 20]],\n",
      "\n",
      "        [[ 3,  3,  3,  3],\n",
      "         [30, 30, 30, 30]]])\n",
      "\n",
      "Size: torch.Size([3, 8])\n",
      "Values: \n",
      "tensor([[ 1,  1,  1,  1, 10, 10, 10, 10],\n",
      "        [ 2,  2,  2,  2, 20, 20, 20, 20],\n",
      "        [ 3,  3,  3,  3, 30, 30, 30, 30]])\n"
     ]
    }
   ],
   "source": [
    "# reshape 危險之處 (意想不到的後果)\n",
    "x = torch.tensor([\n",
    "    [[1,1,1,1], [2,2,2,2], [3,3,3,3]],\n",
    "    [[10,10,10,10], [20,20,20,20], [30,30,30,30]]\n",
    "])\n",
    "print(\"Size: {}\".format(x.shape)) \n",
    "print(\"Values: \\n{}\\n\".format(x))\n",
    "a = x.view(x.size(1), -1)\n",
    "print(\"Size: {}\".format(a.shape)) \n",
    "print(\"Values: \\n{}\\n\".format(a))\n",
    "b = x.transpose(0,1).contiguous()\n",
    "print(\"Size: {}\".format(b.shape)) \n",
    "print(\"Values: \\n{}\\n\".format(b))\n",
    "c = b.view(b.size(0), -1)\n",
    "print(\"Size: {}\".format(c.shape)) \n",
    "print(\"Values: \\n{}\".format(c))"
   ]
  },
  {
   "cell_type": "code",
   "execution_count": 9,
   "metadata": {
    "ExecuteTime": {
     "end_time": "2019-03-14T02:10:54.104172Z",
     "start_time": "2019-03-14T02:10:54.092308Z"
    },
    "colab": {
     "base_uri": "https://localhost:8080/",
     "height": 136
    },
    "colab_type": "code",
    "id": "hRtG5LShMXew",
    "outputId": "b54e520a-8cd5-40a9-8b38-64919574dce0"
   },
   "outputs": [
    {
     "name": "stdout",
     "output_type": "stream",
     "text": [
      "Values: \n",
      "tensor([[-0.3397, -2.0628, -1.3581],\n",
      "        [-1.4550,  0.6226, -0.2950]])\n",
      "Values: \n",
      "tensor([-1.7947, -1.4402, -1.6531])\n",
      "Values: \n",
      "tensor([-3.7607, -1.1273])\n"
     ]
    }
   ],
   "source": [
    "# 維度操作\n",
    "x = torch.randn(2, 3)\n",
    "print(\"Values: \\n{}\".format(x))\n",
    "y = torch.sum(x, dim=0) # 將每列的值相加到行\n",
    "print(\"Values: \\n{}\".format(y))\n",
    "z = torch.sum(x, dim=1) # 將每行的值相加到列\n",
    "print(\"Values: \\n{}\".format(z))"
   ]
  },
  {
   "cell_type": "markdown",
   "metadata": {
    "colab_type": "text",
    "id": "zI0ZV45PrYmw"
   },
   "source": [
    "# 索引、分片和取交集"
   ]
  },
  {
   "cell_type": "code",
   "execution_count": 10,
   "metadata": {
    "ExecuteTime": {
     "end_time": "2019-03-14T02:11:45.192808Z",
     "start_time": "2019-03-14T02:11:45.184291Z"
    },
    "colab": {
     "base_uri": "https://localhost:8080/",
     "height": 153
    },
    "colab_type": "code",
    "id": "iM3UFrs0MXhL",
    "outputId": "bfcbbf13-d8a1-4fc1-f244-fd54068ca74b"
   },
   "outputs": [
    {
     "name": "stdout",
     "output_type": "stream",
     "text": [
      "x: \n",
      "tensor([[-1.6521,  0.1625, -0.1273, -0.8788],\n",
      "        [-0.3718, -1.3267,  0.1469,  1.3535],\n",
      "        [ 1.1699,  1.4596,  0.0647,  1.3155]])\n",
      "x[:1]: \n",
      "tensor([[-1.6521,  0.1625, -0.1273, -0.8788]])\n",
      "x[:1, 1:3]: \n",
      "tensor([[ 0.1625, -0.1273]])\n"
     ]
    }
   ],
   "source": [
    "x = torch.randn(3, 4)\n",
    "print(\"x: \\n{}\".format(x))\n",
    "print (\"x[:1]: \\n{}\".format(x[:1]))\n",
    "print (\"x[:1, 1:3]: \\n{}\".format(x[:1, 1:3]))"
   ]
  },
  {
   "cell_type": "code",
   "execution_count": 11,
   "metadata": {
    "ExecuteTime": {
     "end_time": "2019-03-16T14:59:27.763267Z",
     "start_time": "2019-03-16T14:59:27.635439Z"
    },
    "colab": {
     "base_uri": "https://localhost:8080/",
     "height": 153
    },
    "colab_type": "code",
    "id": "_tbpwGxcMXj0",
    "outputId": "678e805f-f5ec-49fe-d8d6-0986a3c41672"
   },
   "outputs": [
    {
     "name": "stdout",
     "output_type": "stream",
     "text": [
      "Values: \n",
      "tensor([[ 0.2905,  0.7733, -0.6307],\n",
      "        [-0.5074, -0.6933, -1.2160]])\n",
      "Values: \n",
      "tensor([[ 0.2905, -0.6307],\n",
      "        [-0.5074, -1.2160]])\n",
      "Values: \n",
      "tensor([ 0.2905, -1.2160])\n"
     ]
    }
   ],
   "source": [
    "# 透過維度的索引來選取資料\n",
    "x = torch.randn(2, 3)\n",
    "print(\"Values: \\n{}\".format(x))\n",
    "col_indices = torch.LongTensor([0, 2])\n",
    "chosen = torch.index_select(x, dim=1, index=col_indices) # 第 0 和第 2 行\n",
    "print(\"Values: \\n{}\".format(chosen)) \n",
    "row_indices = torch.LongTensor([0, 1])\n",
    "chosen = x[row_indices, col_indices] # 選取 (0, 0) & (2, 1) 的值\n",
    "print(\"Values: \\n{}\".format(chosen)) "
   ]
  },
  {
   "cell_type": "code",
   "execution_count": 18,
   "metadata": {
    "colab": {
     "base_uri": "https://localhost:8080/",
     "height": 153
    },
    "colab_type": "code",
    "id": "tMeqSQtuMXmH",
    "outputId": "9fa99c82-78d9-41f8-d070-710cf1b045c7"
   },
   "outputs": [
    {
     "name": "stdout",
     "output_type": "stream",
     "text": [
      "Values: \n",
      "tensor([[-0.8443,  0.9883,  2.2796],\n",
      "        [-0.0482, -0.1147, -0.5290]])\n",
      "Values: \n",
      "tensor([[-0.8443,  0.9883,  2.2796],\n",
      "        [-0.0482, -0.1147, -0.5290],\n",
      "        [-0.8443,  0.9883,  2.2796],\n",
      "        [-0.0482, -0.1147, -0.5290]])\n"
     ]
    }
   ],
   "source": [
    "# 相加\n",
    "x = torch.randn(2, 3)\n",
    "print(\"Values: \\n{}\".format(x))\n",
    "y = torch.cat([x, x], dim=0) # 以列的維度進行疊合 (dim=1 則是以行來進行疊合)\n",
    "print(\"Values: \\n{}\".format(y))"
   ]
  },
  {
   "cell_type": "markdown",
   "metadata": {
    "colab_type": "text",
    "id": "JqiDuIC-ByvO"
   },
   "source": [
    "# 梯度"
   ]
  },
  {
   "cell_type": "code",
   "execution_count": 12,
   "metadata": {
    "ExecuteTime": {
     "end_time": "2019-03-16T15:16:40.595056Z",
     "start_time": "2019-03-16T15:16:40.539658Z"
    },
    "colab": {
     "base_uri": "https://localhost:8080/",
     "height": 153
    },
    "colab_type": "code",
    "id": "qxpGB7-VL7fs",
    "outputId": "a7964762-60d4-4e0e-bed2-b2d392804494"
   },
   "outputs": [
    {
     "name": "stdout",
     "output_type": "stream",
     "text": [
      "Values: \n",
      "tensor([[0.5930, 0.4767, 0.1042, 0.8997],\n",
      "        [0.2205, 0.9542, 0.8748, 0.9583],\n",
      "        [0.3877, 0.1511, 0.9198, 0.8792]], requires_grad=True)\n",
      "x.grad: \n",
      " tensor([[0.2500, 0.2500, 0.2500, 0.2500],\n",
      "        [0.2500, 0.2500, 0.2500, 0.2500],\n",
      "        [0.2500, 0.2500, 0.2500, 0.2500]])\n"
     ]
    }
   ],
   "source": [
    "# Tensors 的梯度操作\n",
    "x = torch.rand(3, 4, requires_grad=True)\n",
    "y = 3*x + 2\n",
    "z = y.mean()\n",
    "z.backward() # z 必須要是純量\n",
    "print(\"Values: \\n{}\".format(x))\n",
    "print(\"x.grad: \\n\", x.grad)"
   ]
  },
  {
   "cell_type": "markdown",
   "metadata": {
    "colab_type": "text",
    "id": "uf7htaAMDcRV"
   },
   "source": [
    "* $ y = 3x + 2 $\n",
    "* $ z = \\sum{y}/N $\n",
    "* $ \\frac{\\partial(z)}{\\partial(x)} = \\frac{\\partial(z)}{\\partial(y)} \\frac{\\partial(y)}{\\partial(x)} = \\frac{1}{N} * 3 = \\frac{1}{12} * 3 = 0.25 $"
   ]
  },
  {
   "cell_type": "markdown",
   "metadata": {
    "colab_type": "text",
    "id": "VQtpZh1YD-kz"
   },
   "source": [
    "# CUDA tensors"
   ]
  },
  {
   "cell_type": "code",
   "execution_count": 13,
   "metadata": {
    "ExecuteTime": {
     "end_time": "2019-03-16T15:22:41.280257Z",
     "start_time": "2019-03-16T15:22:41.272502Z"
    },
    "colab": {
     "base_uri": "https://localhost:8080/",
     "height": 34
    },
    "colab_type": "code",
    "id": "E_C3en05L7iT",
    "outputId": "01b0eddc-db28-4786-ae48-a1004c838186"
   },
   "outputs": [
    {
     "name": "stdout",
     "output_type": "stream",
     "text": [
      "False\n"
     ]
    }
   ],
   "source": [
    "# 確認 CUDA 是否可用\n",
    "print (torch.cuda.is_available())"
   ]
  },
  {
   "cell_type": "markdown",
   "metadata": {
    "colab_type": "text",
    "id": "za47KWEJ6en2"
   },
   "source": [
    "如果上面的結果是 False，到 `Runtime` → `Change runtime type` 中，在 `Hardware accelerator` 底下選擇 `GPU`"
   ]
  },
  {
   "cell_type": "code",
   "execution_count": 14,
   "metadata": {
    "ExecuteTime": {
     "end_time": "2019-03-16T15:22:42.728047Z",
     "start_time": "2019-03-16T15:22:42.719039Z"
    },
    "colab": {
     "base_uri": "https://localhost:8080/",
     "height": 34
    },
    "colab_type": "code",
    "id": "BY2DdN3j6ZxO",
    "outputId": "ec0ac0bd-461d-4b45-e131-cbf1d19c955b"
   },
   "outputs": [
    {
     "name": "stdout",
     "output_type": "stream",
     "text": [
      "Type: torch.FloatTensor\n"
     ]
    }
   ],
   "source": [
    "# Creating a zero tensor\n",
    "x = torch.Tensor(3, 4).to(\"cpu\")\n",
    "print(\"Type: {}\".format(x.type()))"
   ]
  },
  {
   "cell_type": "code",
   "execution_count": 15,
   "metadata": {
    "ExecuteTime": {
     "end_time": "2019-03-16T15:22:44.027841Z",
     "start_time": "2019-03-16T15:22:43.473219Z"
    },
    "colab": {
     "base_uri": "https://localhost:8080/",
     "height": 34
    },
    "colab_type": "code",
    "id": "EcmdTggzEFPi",
    "outputId": "0e3326db-8d3d-40aa-accd-b31ab841b572"
   },
   "outputs": [
    {
     "ename": "AssertionError",
     "evalue": "Torch not compiled with CUDA enabled",
     "output_type": "error",
     "traceback": [
      "\u001b[0;31m---------------------------------------------------------------------------\u001b[0m",
      "\u001b[0;31mAssertionError\u001b[0m                            Traceback (most recent call last)",
      "\u001b[0;32m<ipython-input-15-74ae67b0e3c9>\u001b[0m in \u001b[0;36m<module>\u001b[0;34m\u001b[0m\n\u001b[1;32m      1\u001b[0m \u001b[0;31m# Creating a zero tensor\u001b[0m\u001b[0;34m\u001b[0m\u001b[0;34m\u001b[0m\u001b[0;34m\u001b[0m\u001b[0m\n\u001b[0;32m----> 2\u001b[0;31m \u001b[0mx\u001b[0m \u001b[0;34m=\u001b[0m \u001b[0mtorch\u001b[0m\u001b[0;34m.\u001b[0m\u001b[0mTensor\u001b[0m\u001b[0;34m(\u001b[0m\u001b[0;36m3\u001b[0m\u001b[0;34m,\u001b[0m \u001b[0;36m4\u001b[0m\u001b[0;34m)\u001b[0m\u001b[0;34m.\u001b[0m\u001b[0mto\u001b[0m\u001b[0;34m(\u001b[0m\u001b[0;34m\"cuda\"\u001b[0m\u001b[0;34m)\u001b[0m\u001b[0;34m\u001b[0m\u001b[0;34m\u001b[0m\u001b[0m\n\u001b[0m\u001b[1;32m      3\u001b[0m \u001b[0mprint\u001b[0m\u001b[0;34m(\u001b[0m\u001b[0;34m\"Type: {}\"\u001b[0m\u001b[0;34m.\u001b[0m\u001b[0mformat\u001b[0m\u001b[0;34m(\u001b[0m\u001b[0mx\u001b[0m\u001b[0;34m.\u001b[0m\u001b[0mtype\u001b[0m\u001b[0;34m(\u001b[0m\u001b[0;34m)\u001b[0m\u001b[0;34m)\u001b[0m\u001b[0;34m)\u001b[0m\u001b[0;34m\u001b[0m\u001b[0;34m\u001b[0m\u001b[0m\n",
      "\u001b[0;32m~/anaconda/envs/torch/lib/python3.6/site-packages/torch/cuda/__init__.py\u001b[0m in \u001b[0;36m_lazy_init\u001b[0;34m()\u001b[0m\n\u001b[1;32m    159\u001b[0m         raise RuntimeError(\n\u001b[1;32m    160\u001b[0m             \"Cannot re-initialize CUDA in forked subprocess. \" + msg)\n\u001b[0;32m--> 161\u001b[0;31m     \u001b[0m_check_driver\u001b[0m\u001b[0;34m(\u001b[0m\u001b[0;34m)\u001b[0m\u001b[0;34m\u001b[0m\u001b[0;34m\u001b[0m\u001b[0m\n\u001b[0m\u001b[1;32m    162\u001b[0m     \u001b[0mtorch\u001b[0m\u001b[0;34m.\u001b[0m\u001b[0m_C\u001b[0m\u001b[0;34m.\u001b[0m\u001b[0m_cuda_init\u001b[0m\u001b[0;34m(\u001b[0m\u001b[0;34m)\u001b[0m\u001b[0;34m\u001b[0m\u001b[0;34m\u001b[0m\u001b[0m\n\u001b[1;32m    163\u001b[0m     \u001b[0m_cudart\u001b[0m \u001b[0;34m=\u001b[0m \u001b[0m_load_cudart\u001b[0m\u001b[0;34m(\u001b[0m\u001b[0;34m)\u001b[0m\u001b[0;34m\u001b[0m\u001b[0;34m\u001b[0m\u001b[0m\n",
      "\u001b[0;32m~/anaconda/envs/torch/lib/python3.6/site-packages/torch/cuda/__init__.py\u001b[0m in \u001b[0;36m_check_driver\u001b[0;34m()\u001b[0m\n\u001b[1;32m     73\u001b[0m \u001b[0;32mdef\u001b[0m \u001b[0m_check_driver\u001b[0m\u001b[0;34m(\u001b[0m\u001b[0;34m)\u001b[0m\u001b[0;34m:\u001b[0m\u001b[0;34m\u001b[0m\u001b[0;34m\u001b[0m\u001b[0m\n\u001b[1;32m     74\u001b[0m     \u001b[0;32mif\u001b[0m \u001b[0;32mnot\u001b[0m \u001b[0mhasattr\u001b[0m\u001b[0;34m(\u001b[0m\u001b[0mtorch\u001b[0m\u001b[0;34m.\u001b[0m\u001b[0m_C\u001b[0m\u001b[0;34m,\u001b[0m \u001b[0;34m'_cuda_isDriverSufficient'\u001b[0m\u001b[0;34m)\u001b[0m\u001b[0;34m:\u001b[0m\u001b[0;34m\u001b[0m\u001b[0;34m\u001b[0m\u001b[0m\n\u001b[0;32m---> 75\u001b[0;31m         \u001b[0;32mraise\u001b[0m \u001b[0mAssertionError\u001b[0m\u001b[0;34m(\u001b[0m\u001b[0;34m\"Torch not compiled with CUDA enabled\"\u001b[0m\u001b[0;34m)\u001b[0m\u001b[0;34m\u001b[0m\u001b[0;34m\u001b[0m\u001b[0m\n\u001b[0m\u001b[1;32m     76\u001b[0m     \u001b[0;32mif\u001b[0m \u001b[0;32mnot\u001b[0m \u001b[0mtorch\u001b[0m\u001b[0;34m.\u001b[0m\u001b[0m_C\u001b[0m\u001b[0;34m.\u001b[0m\u001b[0m_cuda_isDriverSufficient\u001b[0m\u001b[0;34m(\u001b[0m\u001b[0;34m)\u001b[0m\u001b[0;34m:\u001b[0m\u001b[0;34m\u001b[0m\u001b[0;34m\u001b[0m\u001b[0m\n\u001b[1;32m     77\u001b[0m         \u001b[0;32mif\u001b[0m \u001b[0mtorch\u001b[0m\u001b[0;34m.\u001b[0m\u001b[0m_C\u001b[0m\u001b[0;34m.\u001b[0m\u001b[0m_cuda_getDriverVersion\u001b[0m\u001b[0;34m(\u001b[0m\u001b[0;34m)\u001b[0m \u001b[0;34m==\u001b[0m \u001b[0;36m0\u001b[0m\u001b[0;34m:\u001b[0m\u001b[0;34m\u001b[0m\u001b[0;34m\u001b[0m\u001b[0m\n",
      "\u001b[0;31mAssertionError\u001b[0m: Torch not compiled with CUDA enabled"
     ]
    }
   ],
   "source": [
    "# Creating a zero tensor\n",
    "x = torch.Tensor(3, 4).to(\"cuda\")\n",
    "print(\"Type: {}\".format(x.type()))"
   ]
  },
  {
   "cell_type": "code",
   "execution_count": null,
   "metadata": {},
   "outputs": [],
   "source": []
  }
 ],
 "metadata": {
  "accelerator": "GPU",
  "colab": {
   "collapsed_sections": [],
   "name": "07_PyTorch",
   "provenance": [],
   "toc_visible": true,
   "version": "0.3.2"
  },
  "kernelspec": {
   "display_name": "Python 3",
   "language": "python",
   "name": "python3"
  },
  "language_info": {
   "codemirror_mode": {
    "name": "ipython",
    "version": 3
   },
   "file_extension": ".py",
   "mimetype": "text/x-python",
   "name": "python",
   "nbconvert_exporter": "python",
   "pygments_lexer": "ipython3",
   "version": "3.6.8"
  }
 },
 "nbformat": 4,
 "nbformat_minor": 1
}
