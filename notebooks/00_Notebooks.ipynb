{
 "cells": [
  {
   "cell_type": "markdown",
   "metadata": {
    "colab_type": "text",
    "id": "bOChJSNXtC9g"
   },
   "source": [
    "# Notebook 基礎"
   ]
  },
  {
   "cell_type": "markdown",
   "metadata": {
    "colab_type": "text",
    "id": "rSXwaU-ptNG6"
   },
   "source": [
    "<img src=\"https://raw.githubusercontent.com/GokuMohandas/practicalAI/master/images/logo.png\" width=150>\n",
    "\n",
    "歡迎來到 practicalAI 的第一堂課。在這堂課中，我們會學習如何使用 notebook 並且保存它。如果你已經知道怎麼使用 notebooks 了，可以直接略過這門課。\n",
    "\n",
    "<img src=\"https://raw.githubusercontent.com/GokuMohandas/practicalAI/master/images/colab.png\" width=150>\n",
    "\n",
    "**注意**: To run the code in this notebook, follow these steps: 你可以透過以下步驟來執行\n",
    "1. Sign into your Google account.\n",
    "2. Click the **COPY TO DRIVE** button on the toolbar. This will open the notebook on a new tab.\n",
    "\n",
    "<img src=\"https://raw.githubusercontent.com/GokuMohandas/practicalAI/master/images/copy_to_drive.png\">\n",
    "\n",
    "3. Rename this new notebook by removing the **Copy of** part in the title.\n",
    "4. Run the code, make changes, etc. and it's all automatically saved to you personal Google Drive.\n",
    "\n"
   ]
  },
  {
   "cell_type": "markdown",
   "metadata": {
    "colab_type": "text",
    "id": "cOEaLCZAu4JQ"
   },
   "source": [
    "# Types of cells"
   ]
  },
  {
   "cell_type": "markdown",
   "metadata": {
    "colab_type": "text",
    "id": "WcOgqq5xvtMn"
   },
   "source": [
    "Notebooks are a great visual way of programming. We will use these notebooks to code in Python and learn the basics of machine learning. First, you need to know that notebooks are made up of cells. Each cell can either be a **code cell** or a **text cell**. \n",
    "\n",
    "*   **text cells**: used for headers and paragraph text. \n",
    "*   **code cells**: used for holding code.\n",
    "\n",
    "\n"
   ]
  },
  {
   "cell_type": "markdown",
   "metadata": {
    "colab_type": "text",
    "id": "tBVFofpLutnn"
   },
   "source": [
    "# Creating cells\n",
    "\n",
    "First, let's create a text cell. To create a cell at a particular location, just click on the spot and create a text cell by clicking on the **➕TEXT** below the *View* button up top. Once you made the cell, click on it and type the following inside it:\n",
    "\n",
    "\n",
    "```\n",
    "### This is a header\n",
    "Hello world!\n",
    "```"
   ]
  },
  {
   "cell_type": "markdown",
   "metadata": {
    "colab_type": "text",
    "id": "iXYgZpgpYS3N"
   },
   "source": [
    "# Running cells\n",
    "Once you type inside the cell, press the **SHIFT** and **ENTER** together to run the cell."
   ]
  },
  {
   "cell_type": "markdown",
   "metadata": {
    "colab_type": "text",
    "id": "WKTbiBuvYexD"
   },
   "source": [
    "# Editing cells\n",
    "To edit a cell, double click it and you should be able to replace what you've typed in there."
   ]
  },
  {
   "cell_type": "markdown",
   "metadata": {
    "colab_type": "text",
    "id": "Jv0ZSuhNYVIU"
   },
   "source": [
    "# Moving cells\n",
    "Once you create the cell, you can move it with the ⬆️**CELL** and ⬇️**CELL** buttons above. "
   ]
  },
  {
   "cell_type": "markdown",
   "metadata": {
    "colab_type": "text",
    "id": "B_VGiYf8YXiU"
   },
   "source": [
    "# Deleting cells\n",
    "You can delete the cell by clicking on the cell and pressing the button with three vertical dots on the top right corner of the cell. Click **Delete cell**."
   ]
  },
  {
   "cell_type": "markdown",
   "metadata": {
    "colab_type": "text",
    "id": "hxl7Fk8LVQmR"
   },
   "source": [
    "# Creating a code cell\n",
    "Now let's take the same steps as above to create, edit and delete a code cell. You can create a code cell by clicking on the ➕CODE below the *File* menu at the top. Once you have created the cell, click on it and type the following inside it:\n",
    "\n",
    "```\n",
    "print (\"hello world!\")\n",
    "```\n",
    "\n",
    "⏰  -   It may take a few seconds when you run your first code cell."
   ]
  },
  {
   "cell_type": "code",
   "execution_count": 0,
   "metadata": {
    "colab": {
     "base_uri": "https://localhost:8080/",
     "height": 34
    },
    "colab_type": "code",
    "id": "DfGf9KmQ3DJM",
    "outputId": "dd9665df-ac81-4c0d-ef72-5ca2099e53f7"
   },
   "outputs": [
    {
     "name": "stdout",
     "output_type": "stream",
     "text": [
      "hello world!\n"
     ]
    }
   ],
   "source": [
    "print (\"hello world!\")"
   ]
  },
  {
   "cell_type": "markdown",
   "metadata": {
    "colab_type": "text",
    "id": "GURvB6XzWN12"
   },
   "source": [
    "**Note:** These Google colab notebooks timeout if you are idle for more than ~30 minutes which means you'll need to run all your code cells again. "
   ]
  },
  {
   "cell_type": "markdown",
   "metadata": {
    "colab_type": "text",
    "id": "VoMq0eFRvugb"
   },
   "source": [
    "# Saving the notebook"
   ]
  },
  {
   "cell_type": "markdown",
   "metadata": {
    "colab_type": "text",
    "id": "nPWxXt5Hv7Ga"
   },
   "source": [
    "Go to *File* menu and then click on **Save a copy in Drive**. Now you will have your own copy of each notebook in your own Google Drive. If you have a [Github](https://github.com/), you can explore saving it there or even downloading it as a .ipynb or .py file."
   ]
  }
 ],
 "metadata": {
  "colab": {
   "collapsed_sections": [],
   "name": "00_Notebooks",
   "provenance": [],
   "toc_visible": true,
   "version": "0.3.2"
  },
  "kernelspec": {
   "display_name": "Python 3",
   "language": "python",
   "name": "python3"
  },
  "language_info": {
   "codemirror_mode": {
    "name": "ipython",
    "version": 3
   },
   "file_extension": ".py",
   "mimetype": "text/x-python",
   "name": "python",
   "nbconvert_exporter": "python",
   "pygments_lexer": "ipython3",
   "version": "3.6.8"
  }
 },
 "nbformat": 4,
 "nbformat_minor": 1
}
